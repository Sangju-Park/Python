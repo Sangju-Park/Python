{
 "cells": [
  {
   "cell_type": "code",
   "execution_count": 1,
   "metadata": {},
   "outputs": [],
   "source": [
    "import requests as req\n",
    "from bs4 import BeautifulSoup as bs\n",
    "import re\n",
    "import time\n",
    "from tqdm import tqdm\n",
    "import imghdr"
   ]
  },
  {
   "cell_type": "code",
   "execution_count": 2,
   "metadata": {},
   "outputs": [],
   "source": [
    "def nsearch(name='금강산'):\n",
    "    NeverSearch(name)\n",
    "    DaumSearch(name)    "
   ]
  },
  {
   "cell_type": "code",
   "execution_count": 3,
   "metadata": {},
   "outputs": [],
   "source": [
    "def NeverSearch(name):\n",
    "\n",
    "    url1=\"https://search.naver.com/search.naver?where=image&sm=tab_jum&query=\"+name\n",
    "    snd=[]\n",
    "\n",
    "    res=req.get(url1)\n",
    "    soup = bs(res.text,\"html.parser\")\n",
    "    itags=soup.select('img')\n",
    " \n",
    "    str_img=''.join(str(itags))\n",
    "\n",
    "    p=r'https?://[./\\?%_=\\./\\w]*'\n",
    "    imgs=re.findall(p,str_img)\n",
    "    \n",
    "    res.close()\n",
    "    #하위Url 필터링\n",
    "    ind=[]\n",
    "    for img in tqdm(imgs):\n",
    "        res=req.get(img)\n",
    "        if res.status_code==200:\n",
    "            snd.append(res.content)\n",
    "            img=img.replace('/','')\n",
    "            ind.append(img[-10:-4])\n",
    "        res.close()\n",
    "\n",
    "    i=0\n",
    "    for rhj in snd:\n",
    "            with open('./IMG/NVR_'+ind[i]+'.jpg','wb') as f:\n",
    "                f.write(rhj)\n",
    "                i+=1\n",
    "    print(len(snd))"
   ]
  },
  {
   "cell_type": "code",
   "execution_count": 4,
   "metadata": {},
   "outputs": [],
   "source": [
    "def DaumSearch(name):\n",
    "    if ' ' in name:\n",
    "        main,sub=name.split(' ')\n",
    "        ssurl='&20'+sub\n",
    "        main=main\n",
    "    else:\n",
    "        ssurl=''\n",
    "        main=name\n",
    "    url2=\"https://search.daum.net/search?w=img&nil_search=btn&DA=NTB&enc=utf8&q=\"+main+ssurl\n",
    "   \n",
    "    snd=[]\n",
    "\n",
    "    res=req.get(url2)\n",
    "    soup = bs(res.text,\"html.parser\",from_encoding=\"iso-8859-1\")\n",
    "    itags=soup.select('img')\n",
    "    \n",
    "\n",
    "    str_img=''.join(str(itags))\n",
    "\n",
    "    p=r'\\\"https?://[./\\?%_=\\./\\w]*\\\"'\n",
    "    imgs=re.findall(p,str(res.content))\n",
    "    \n",
    "    res.close()\n",
    "    #하위Url 필터링\n",
    "    jpgs=[]\n",
    "    for img in tqdm(imgs):\n",
    "        if not 'blog'  in str(img):\n",
    "                   if not  'cafe' in str(img):\n",
    "                           if not 'png'  in str(img):\n",
    "                                   if not 'gif' in str(img):\n",
    "                                          if not 'xhtml' in str(img):\n",
    "                                              jpgs.append(img.replace('\"',''))\n",
    " \n",
    "    snd=[] \n",
    "    ind=[]\n",
    "    i=0\n",
    "    for jpg in jpgs: \n",
    "       \n",
    "        res=req.get(jpg)\n",
    "        rng=str(res.content)[ :10]\n",
    "        if res.status_code==200:\n",
    "            if not ((\"b'<!DOCTYP\" in rng) or ('xhtml'in rng) or (\"b'<!DOCTYP\" in rng)) :\n",
    "                if len(str(jpg))>45:\n",
    "                    snd.append(res.content)\n",
    "                    jpg_=str(jpg).replace('/','',6).replace('.','').replace('?','',3).replace('_','',3)\n",
    "                    ind.append(jpg_[-10:-4])\n",
    "\n",
    "        res.close()\n",
    "    i=0\n",
    "    for rhj in snd:\n",
    "        with open('./IMG/Daum_'+ind[i]+'.jpg','wb') as f:\n",
    "            f.write(rhj)\n",
    "            i+=1\n",
    "\n",
    "    print(len(snd)) "
   ]
  },
  {
   "cell_type": "code",
   "execution_count": 6,
   "metadata": {},
   "outputs": [
    {
     "name": "stderr",
     "output_type": "stream",
     "text": [
      "100%|██████████████████████████████████████████████████████████████████████████████████| 51/51 [00:04<00:00, 12.44it/s]\n"
     ]
    },
    {
     "name": "stdout",
     "output_type": "stream",
     "text": [
      "33\n"
     ]
    },
    {
     "name": "stderr",
     "output_type": "stream",
     "text": [
      "100%|████████████████████████████████████████████████████████████████████████████████████████| 381/381 [00:00<?, ?it/s]\n"
     ]
    },
    {
     "name": "stdout",
     "output_type": "stream",
     "text": [
      "202\n"
     ]
    }
   ],
   "source": [
    "nsearch('열정')"
   ]
  },
  {
   "cell_type": "code",
   "execution_count": null,
   "metadata": {},
   "outputs": [],
   "source": []
  }
 ],
 "metadata": {
  "kernelspec": {
   "display_name": "Python 3",
   "language": "python",
   "name": "python3"
  },
  "language_info": {
   "codemirror_mode": {
    "name": "ipython",
    "version": 3
   },
   "file_extension": ".py",
   "mimetype": "text/x-python",
   "name": "python",
   "nbconvert_exporter": "python",
   "pygments_lexer": "ipython3",
   "version": "3.7.4"
  }
 },
 "nbformat": 4,
 "nbformat_minor": 2
}
