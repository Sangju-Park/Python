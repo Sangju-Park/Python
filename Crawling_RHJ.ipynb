{
 "cells": [
  {
   "cell_type": "code",
   "execution_count": 129,
   "metadata": {},
   "outputs": [],
   "source": [
    "import urllib.request as rreq\n",
    "import requests as req\n",
    "from bs4 import BeautifulSoup as bs\n",
    "import re\n",
    "import time\n",
    "from tqdm import tqdm"
   ]
  },
  {
   "cell_type": "code",
   "execution_count": 130,
   "metadata": {},
   "outputs": [],
   "source": [
    "#본 Page\n",
    "url=\"https://search.naver.com/search.naver?where=image&sm=tab_jum&query=태권도띠\"\n",
    "res=req.get(url)\n",
    "soup = bs(res.text,\"html.parser\",from_encoding=\"iso-8859-1\")\n",
    "itags=soup.select('img')\n",
    "str_img=''.join(str(itags))"
   ]
  },
  {
   "cell_type": "code",
   "execution_count": 131,
   "metadata": {},
   "outputs": [],
   "source": [
    "p=r'https?://[./\\?%_=\\./\\w]*'\n",
    "imgs=re.findall(p,str_img)"
   ]
  },
  {
   "cell_type": "code",
   "execution_count": 132,
   "metadata": {},
   "outputs": [
    {
     "name": "stderr",
     "output_type": "stream",
     "text": [
      "100%|██████████████████████████████████████████████████████████████████████████████████| 51/51 [00:05<00:00,  8.72it/s]\n"
     ]
    }
   ],
   "source": [
    "#하위Url 필터링\n",
    "snd=[]\n",
    "for img in tqdm(imgs):\n",
    "    res=req.get(img)\n",
    "    if res.status_code==200:\n",
    "       snd.append(res.content)         "
   ]
  },
  {
   "cell_type": "code",
   "execution_count": 133,
   "metadata": {},
   "outputs": [
    {
     "name": "stdout",
     "output_type": "stream",
     "text": [
      "29\n"
     ]
    }
   ],
   "source": [
    "i=0\n",
    "for rhj in snd:\n",
    "        with open('./IMG/IMG_'+str(i)+'.jpg','wb') as f:\n",
    "            f.write(rhj)\n",
    "            i+=1\n",
    "print(i)   "
   ]
  }
 ],
 "metadata": {
  "kernelspec": {
   "display_name": "Python 3",
   "language": "python",
   "name": "python3"
  },
  "language_info": {
   "codemirror_mode": {
    "name": "ipython",
    "version": 3
   },
   "file_extension": ".py",
   "mimetype": "text/x-python",
   "name": "python",
   "nbconvert_exporter": "python",
   "pygments_lexer": "ipython3",
   "version": "3.7.4"
  }
 },
 "nbformat": 4,
 "nbformat_minor": 2
}
